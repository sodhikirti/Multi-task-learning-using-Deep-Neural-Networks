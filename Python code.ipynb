{
 "cells": [
  {
   "cell_type": "code",
   "execution_count": null,
   "metadata": {},
   "outputs": [],
   "source": [
    "## Importing packages\n",
    "\n",
    "import pandas as pd\n",
    "import keras\n",
    "from sklearn.model_selection import train_test_split\n",
    "from keras.models import Model\n",
    "from keras.layers import Input, Dense, Dropout, Activation, Flatten\n",
    "from keras.layers import Conv2D, MaxPooling2D\n",
    "from keras.utils import plot_model\n",
    "from IPython.display import Image\n",
    "from IPython.display import clear_output\n",
    "\n",
    "data=pd.read_csv('{}'.format(df.csv))\n",
    "X=data['features']\n",
    "Y=data['Targets']\n",
    "X_train,y_train,X_test,y_test=train_test_split(X,Y,test_size=0.2,random_state=123)"
   ]
  },
  {
   "cell_type": "code",
   "execution_count": null,
   "metadata": {},
   "outputs": [],
   "source": [
    "## creating Y_train/Y_test targets for both classification and regression\n",
    "y_train_reg=y_train['Reg_Target']\n",
    "y_train_clf=y_train['Clf_Target']\n",
    "y_test_reg=y_test['Reg_Target']\n",
    "y_test_clf=y_test['Clf_Target']"
   ]
  },
  {
   "cell_type": "code",
   "execution_count": null,
   "metadata": {},
   "outputs": [],
   "source": [
    "class PlotProgress(keras.callbacks.Callback):\n",
    "    \n",
    "    def __init__(self, entity='loss'):\n",
    "        self.entity = entity\n",
    "        \n",
    "    def on_train_begin(self, logs={}):\n",
    "        self.i = 0\n",
    "        self.x = []\n",
    "        self.losses = []\n",
    "        self.val_losses = []\n",
    "        \n",
    "        self.fig = plt.figure()\n",
    "        \n",
    "        self.logs = []\n",
    "\n",
    "    def on_epoch_end(self, epoch, logs={}):\n",
    "        \n",
    "        self.logs.append(logs)\n",
    "        self.x.append(self.i)\n",
    "        self.losses.append(logs.get('{}'.format(self.entity)))\n",
    "        self.val_losses.append(logs.get('val_{}'.format(self.entity)))\n",
    "        self.i += 1\n",
    "        \n",
    "        clear_output(wait=True)\n",
    "        plt.plot(self.x, self.losses, label=\"{}\".format(self.entity))\n",
    "        plt.plot(self.x, self.val_losses, label=\"val_{}\".format(self.entity))\n",
    "        plt.legend()\n",
    "        plt.show();"
   ]
  },
  {
   "cell_type": "code",
   "execution_count": null,
   "metadata": {},
   "outputs": [],
   "source": [
    "## creating 2 layer neural network with 64 neurons each and 2 output layers\n",
    "\n",
    "input_layer = Input(shape=(X_train.shape[1],))\n",
    "dense_layer_1 = Dense(64, activation='relu')(input_layer)\n",
    "dense_layer_2 = Dense(64, activation='relu')(dense_layer_1)\n",
    "regression = Dense(1, name='regression')(dense_layer_2)\n",
    "classification=Dense(1, activation='sigmoid', name='classification')(dense_layer_2)\n",
    "model = Model(inputs = input_layer,\n",
    "     outputs = [regression,classification])\n",
    "model.summary()\n",
    "\n",
    "## Loss=weight1 * Loss1+weight2 * Loss2\n",
    "model.compile(loss={'regression':'mean_absolute_error','classification':'binary_crossentropy'}, optimizer=\"adam\"\n",
    "              , loss_weights={'regression': 1, 'classification': 1},\n",
    "              metrics={'regression':'mean_absolute_error','classification':'accuracy'})"
   ]
  },
  {
   "cell_type": "code",
   "execution_count": null,
   "metadata": {},
   "outputs": [],
   "source": [
    "plot_progress = PlotProgress(entity='loss')\n",
    "\n",
    "try:\n",
    "    model.fit({'main_input': X_train},\n",
    "              {'regression': y_train_reg, 'classification': y_train_clf},\n",
    "              epochs=100, batch_size=128,\n",
    "              verbose=1,\n",
    "              callbacks=[plot_progress],\n",
    "              validation_split=0.2,\n",
    "             )\n",
    "except KeyboardInterrupt:\n",
    "    pass"
   ]
  },
  {
   "cell_type": "code",
   "execution_count": null,
   "metadata": {},
   "outputs": [],
   "source": [
    "mae,proba=model.predict(X_test)"
   ]
  },
  {
   "cell_type": "code",
   "execution_count": null,
   "metadata": {},
   "outputs": [],
   "source": []
  }
 ],
 "metadata": {
  "kernelspec": {
   "display_name": "Python 3",
   "language": "python",
   "name": "python3"
  },
  "language_info": {
   "codemirror_mode": {
    "name": "ipython",
    "version": 3
   },
   "file_extension": ".py",
   "mimetype": "text/x-python",
   "name": "python",
   "nbconvert_exporter": "python",
   "pygments_lexer": "ipython3",
   "version": "3.8.5"
  }
 },
 "nbformat": 4,
 "nbformat_minor": 4
}
